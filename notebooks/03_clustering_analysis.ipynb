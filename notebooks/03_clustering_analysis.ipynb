{
  "cells": [
    {
      "cell_type": "raw",
      "metadata": {
        "vscode": {
          "languageId": "raw"
        }
      },
      "source": [
        "# تحلیل Clustering کاربران بانکی\n",
        "\n",
        "این نوت‌بوک دسته‌بندی کاربران بانکی را با استفاده از الگوریتم‌های مختلف clustering نشان می‌دهد.\n"
      ]
    }
  ],
  "metadata": {
    "language_info": {
      "name": "python"
    }
  },
  "nbformat": 4,
  "nbformat_minor": 2
}
