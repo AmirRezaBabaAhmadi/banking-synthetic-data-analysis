{
  "cells": [
    {
      "cell_type": "raw",
      "metadata": {
        "vscode": {
          "languageId": "raw"
        }
      },
      "source": [
        "# تولید داده‌های بانکی Synthetic\n",
        "\n",
        "این notebook نحوه استفاده از سیستم تولید داده‌های بانکی synthetic را نشان می‌دهد.\n",
        "\n",
        "## مراحل:\n",
        "1. بارگذاری کتابخانه‌ها و تنظیمات\n",
        "2. تولید داده نمونه کوچک\n",
        "3. بررسی کیفیت داده‌های تولیدشده\n",
        "4. تحلیل توزیع‌های آماری\n",
        "5. بررسی نویزهای تولیدشده\n"
      ]
    },
    {
      "cell_type": "code",
      "execution_count": null,
      "metadata": {},
      "outputs": [],
      "source": [
        "# بارگذاری کتابخانه‌ها\n",
        "import sys\n",
        "import os\n",
        "import pandas as pd\n",
        "import numpy as np\n",
        "import matplotlib.pyplot as plt\n",
        "import seaborn as sns\n",
        "from datetime import datetime\n",
        "import warnings\n",
        "warnings.filterwarnings('ignore')\n",
        "\n",
        "# اضافه کردن مسیر src\n",
        "sys.path.append('../src')\n",
        "\n",
        "# بارگذاری ماژول‌های پروژه\n",
        "from src.data_generation.generators import BankingDataGenerator, NewUserGenerator\n",
        "from src.data_generation.distributions import StatisticalDistributions\n",
        "from src.data_generation.noise_injection import NoiseInjector\n",
        "from src.database.sqlite_manager import SQLiteManager\n",
        "from src.utils.config import get_config\n",
        "\n",
        "# تنظیمات نمودار\n",
        "plt.rcParams['figure.figsize'] = (12, 8)\n",
        "plt.rcParams['font.size'] = 12\n",
        "sns.set_style(\"whitegrid\")\n",
        "\n",
        "print(\"✅ تمام کتابخانه‌ها با موفقیت بارگذاری شدند\")\n",
        "print(f\"📅 زمان اجرا: {datetime.now()}\")\n"
      ]
    },
    {
      "cell_type": "raw",
      "metadata": {
        "vscode": {
          "languageId": "raw"
        }
      },
      "source": [
        "## 1. تولید داده نمونه\n",
        "\n",
        "ابتدا یک dataset کوچک (100 کاربر) تولید می‌کنیم تا فرآیند را بررسی کنیم:\n"
      ]
    },
    {
      "cell_type": "code",
      "execution_count": null,
      "metadata": {},
      "outputs": [],
      "source": [
        "# تولید داده نمونه\n",
        "print(\"🔄 شروع تولید داده نمونه...\")\n",
        "\n",
        "# ایجاد دیتابیس نمونه\n",
        "db_manager = SQLiteManager(\"../database/notebook_sample.db\")\n",
        "\n",
        "# ایجاد generator\n",
        "generator = BankingDataGenerator(db_manager)\n",
        "\n",
        "# تولید 100 کاربر نمونه\n",
        "sample_stats = generator.generate_sample_data(num_users=100)\n",
        "\n",
        "print(\"✅ تولید داده نمونه تکمیل شد!\")\n",
        "print(f\"👥 کاربران تولیدشده: {sample_stats['total_users_generated']:,}\")\n",
        "print(f\"💳 تراکنش‌های تولیدشده: {sample_stats['total_transactions_generated']:,}\")\n",
        "print(f\"⏱️  زمان پردازش: {sample_stats['total_processing_time_seconds']:.2f} ثانیه\")\n",
        "\n",
        "# نمایش آمار دیتابیس\n",
        "db_stats = db_manager.get_database_stats()\n",
        "print(f\"\\n📊 آمار دیتابیس:\")\n",
        "print(f\"   میانگین تراکنش در کاربر: {db_stats['avg_transactions_per_user']:.1f}\")\n",
        "print(f\"   مجموع مبلغ تراکنش‌ها: {db_stats['total_amount']:,.0f} تومان\")\n",
        "print(f\"   درصد نویز: {db_stats['noise_percentage']:.2f}%\")\n"
      ]
    },
    {
      "cell_type": "raw",
      "metadata": {
        "vscode": {
          "languageId": "raw"
        }
      },
      "source": [
        "## 2. بررسی و تحلیل داده‌های تولیدشده\n",
        "\n",
        "حالا داده‌های تولیدشده را بررسی می‌کنیم:\n"
      ]
    },
    {
      "cell_type": "code",
      "execution_count": null,
      "metadata": {},
      "outputs": [],
      "source": [
        "# بارگذاری داده‌ها برای تحلیل\n",
        "users_df = db_manager.execute_query(\"SELECT * FROM users LIMIT 100\")\n",
        "transactions_df = db_manager.execute_query(\"SELECT * FROM transactions LIMIT 1000\")\n",
        "\n",
        "print(f\"📊 تعداد کاربران: {len(users_df)}\")\n",
        "print(f\"📊 تعداد تراکنش‌ها: {len(transactions_df)}\")\n",
        "\n",
        "# نمایش چند رکورد نمونه\n",
        "print(\"\\n👥 نمونه کاربران:\")\n",
        "print(users_df.head())\n",
        "\n",
        "print(\"\\n💳 نمونه تراکنش‌ها:\")\n",
        "print(transactions_df.head())\n"
      ]
    },
    {
      "cell_type": "code",
      "execution_count": null,
      "metadata": {},
      "outputs": [],
      "source": [
        "# نمودارهای توزیع داده‌ها\n",
        "fig, axes = plt.subplots(2, 3, figsize=(18, 12))\n",
        "\n",
        "# توزیع سن\n",
        "axes[0, 0].hist(users_df['age'], bins=20, alpha=0.7, color='skyblue', edgecolor='black')\n",
        "axes[0, 0].set_title('توزیع سن کاربران')\n",
        "axes[0, 0].set_xlabel('سن')\n",
        "axes[0, 0].set_ylabel('فراوانی')\n",
        "\n",
        "# توزیع مبلغ تراکنش (لگاریتمی)\n",
        "axes[0, 1].hist(np.log10(transactions_df['amount']), bins=30, alpha=0.7, color='lightgreen', edgecolor='black')\n",
        "axes[0, 1].set_title('توزیع مبلغ تراکنش (لگاریتم)')\n",
        "axes[0, 1].set_xlabel('لگاریتم مبلغ (تومان)')\n",
        "axes[0, 1].set_ylabel('فراوانی')\n",
        "\n",
        "# توزیع ساعت تراکنش\n",
        "axes[0, 2].hist(transactions_df['hour_of_day'], bins=24, alpha=0.7, color='salmon', edgecolor='black')\n",
        "axes[0, 2].set_title('توزیع ساعت تراکنش')\n",
        "axes[0, 2].set_xlabel('ساعت')\n",
        "axes[0, 2].set_ylabel('فراوانی')\n",
        "\n",
        "# توزیع استان‌ها\n",
        "province_counts = users_df['province'].value_counts().head(10)\n",
        "axes[1, 0].bar(range(len(province_counts)), province_counts.values, color='orange', alpha=0.7)\n",
        "axes[1, 0].set_title('توزیع استان‌ها (10 استان اول)')\n",
        "axes[1, 0].set_xlabel('استان')\n",
        "axes[1, 0].set_ylabel('تعداد کاربر')\n",
        "axes[1, 0].tick_params(axis='x', rotation=45)\n",
        "\n",
        "# توزیع انواع کارت\n",
        "card_counts = users_df['preferred_card_type'].value_counts()\n",
        "axes[1, 1].pie(card_counts.values, labels=card_counts.index, autopct='%1.1f%%', startangle=90)\n",
        "axes[1, 1].set_title('توزیع انواع کارت')\n",
        "\n",
        "# توزیع نویز\n",
        "noise_counts = transactions_df['is_noise'].value_counts()\n",
        "axes[1, 2].pie(noise_counts.values, labels=['عادی', 'نویز'], autopct='%1.1f%%', \n",
        "               colors=['lightblue', 'red'], startangle=90)\n",
        "axes[1, 2].set_title('نسبت نویز در داده‌ها')\n",
        "\n",
        "plt.tight_layout()\n",
        "plt.show()\n",
        "\n",
        "print(\"📈 نمودارهای توزیع داده‌ها نمایش داده شد\")\n",
        "print(f\"🔍 درصد نویز: {(transactions_df['is_noise'].sum() / len(transactions_df)) * 100:.2f}%\")\n"
      ]
    },
    {
      "cell_type": "raw",
      "metadata": {
        "vscode": {
          "languageId": "raw"
        }
      },
      "source": [
        "## 3. خلاصه و نتیجه‌گیری\n",
        "\n",
        "این notebook نشان داد که سیستم تولید داده‌های synthetic ما:\n"
      ]
    },
    {
      "cell_type": "code",
      "execution_count": null,
      "metadata": {},
      "outputs": [],
      "source": [
        "# خلاصه نهایی\n",
        "print(\"=== خلاصه تولید داده ===\")\n",
        "print(f\"✅ {sample_stats['total_users_generated']:,} کاربر تولید شد\")\n",
        "print(f\"✅ {sample_stats['total_transactions_generated']:,} تراکنش تولید شد\") \n",
        "print(f\"✅ نویز {db_stats['noise_percentage']:.2f}% اعمال شد\")\n",
        "print(f\"✅ زمان پردازش: {sample_stats['total_processing_time_seconds']:.2f} ثانیه\")\n",
        "\n",
        "# نمایش توزیع‌های استفاده‌شده\n",
        "dist_summary = generator.distributions.get_distribution_summary()\n",
        "print(f\"\\n📊 توزیع‌های آماری استفاده‌شده:\")\n",
        "for dist_name, info in dist_summary.items():\n",
        "    print(f\"   {dist_name}: {info['type']}\")\n",
        "\n",
        "# آمار نویز\n",
        "noise_stats = generator.noise_injector.get_noise_statistics()\n",
        "print(f\"\\n🔍 آمار نویز:\")\n",
        "for noise_type, count in noise_stats['noise_counts'].items():\n",
        "    if noise_type != 'total_noise_records' and count > 0:\n",
        "        print(f\"   {noise_type}: {count}\")\n",
        "\n",
        "print(f\"\\n🎯 سیستم آماده برای تولید dataset کامل!\")\n",
        "print(f\"💡 برای تولید کامل اجرا کنید: python ../main.py --full\")\n",
        "\n",
        "# پاکسازی منابع\n",
        "generator.close()\n",
        "print(f\"\\n🧹 منابع پاک شدند\")\n"
      ]
    }
  ],
  "metadata": {
    "language_info": {
      "name": "python"
    }
  },
  "nbformat": 4,
  "nbformat_minor": 2
}
