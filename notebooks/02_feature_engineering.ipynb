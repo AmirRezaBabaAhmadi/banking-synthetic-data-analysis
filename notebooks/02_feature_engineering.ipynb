{
  "cells": [
    {
      "cell_type": "raw",
      "metadata": {
        "vscode": {
          "languageId": "raw"
        }
      },
      "source": [
        "# Feature Engineering برای داده‌های بانکی\n",
        "\n",
        "این نوت‌بوک نحوه استخراج و تبدیل ویژگی‌های پیشرفته از داده‌های بانکی را نشان می‌دهد.\n"
      ]
    },
    {
      "cell_type": "code",
      "execution_count": null,
      "metadata": {},
      "outputs": [],
      "source": [
        "import sys\n",
        "import os\n",
        "sys.path.append('..')\n",
        "\n",
        "import pandas as pd\n",
        "import numpy as np\n",
        "import matplotlib.pyplot as plt\n",
        "import seaborn as sns\n",
        "from IPython.display import display, HTML\n",
        "\n",
        "from src.database.sqlite_manager import SQLiteManager\n",
        "from src.feature_engineering.extractors import BankingFeatureExtractor\n",
        "from src.feature_engineering.transformers import FeatureTransformer\n",
        "from src.utils.visualization import BankingVisualizationUtils\n",
        "\n",
        "# تنظیمات\n",
        "plt.style.use('seaborn-v0_8')\n",
        "sns.set_palette(\"husl\")\n",
        "%matplotlib inline\n"
      ]
    }
  ],
  "metadata": {
    "language_info": {
      "name": "python"
    }
  },
  "nbformat": 4,
  "nbformat_minor": 2
}
