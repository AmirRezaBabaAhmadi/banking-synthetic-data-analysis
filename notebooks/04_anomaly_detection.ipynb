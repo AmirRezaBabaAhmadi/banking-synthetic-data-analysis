{
  "cells": [
    {
      "cell_type": "raw",
      "metadata": {
        "vscode": {
          "languageId": "raw"
        }
      },
      "source": [
        "# تشخیص ناهنجاری در رفتار مشتریان بانکی با SHAP\n",
        "\n",
        "این نوت‌بوک نحوه تشخیص ناهنجاری در رفتار مشتریان بانکی و تفسیر آن با SHAP values را نشان می‌دهد.\n"
      ]
    }
  ],
  "metadata": {
    "language_info": {
      "name": "python"
    }
  },
  "nbformat": 4,
  "nbformat_minor": 2
}
